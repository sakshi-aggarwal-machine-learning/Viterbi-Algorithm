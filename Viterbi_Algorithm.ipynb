{
 "cells": [
  {
   "cell_type": "code",
   "execution_count": 1,
   "metadata": {},
   "outputs": [],
   "source": [
    "import os\n",
    "import numpy as np\n",
    "import scipy\n",
    "from skimage import io\n",
    "\n",
    "path = 'G:\\Masters\\Sem_2\\STA_5934\\HW\\HW3'\n",
    "\n",
    "image = io.imread(os.path.join(path,'gw.bmp'), as_gray=True)"
   ]
  },
  {
   "cell_type": "code",
   "execution_count": 4,
   "metadata": {},
   "outputs": [
    {
     "name": "stdout",
     "output_type": "stream",
     "text": [
      "(15, 419)\n",
      "[[221 228 216 ...  76  93  93]\n",
      " [228 230 243 ...  86  93  76]\n",
      " [245 255 253 ...  91  98  86]\n",
      " ...\n",
      " [213 223 226 ...  61  74  74]\n",
      " [206 221 223 ...  76  81  81]\n",
      " [206 208 218 ...  96  93  93]]\n"
     ]
    }
   ],
   "source": [
    "print(image.shape)\n",
    "print(image)"
   ]
  },
  {
   "cell_type": "code",
   "execution_count": null,
   "metadata": {},
   "outputs": [],
   "source": [
    "#Question 1 part (a)\n",
    "List_min = []\n",
    "List_min_row = []\n",
    "for column in range(0,image.shape[1]):\n",
    "    min = None\n",
    "    min_row = None\n",
    "    for row in range(0,image.shape[0]):\n",
    "        if min is None or image[row][column] < min:\n",
    "            min = image[row,column]\n",
    "            min_row = row\n",
    "    List_min.append(min)\n",
    "    List_min_row.append(min_row)\n",
    "print(List_min)\n",
    "print(List_min_row)\n",
    "\n",
    "norm_image = image.copy()\n",
    "for column in range(0,image.shape[1]):\n",
    "    for row in range(0,image.shape[0]):\n",
    "        norm_image[row][column] = image[row][column] - List_min[column]"
   ]
  },
  {
   "cell_type": "code",
   "execution_count": 11,
   "metadata": {},
   "outputs": [],
   "source": [
    "import matplotlib.pyplot as plt"
   ]
  },
  {
   "cell_type": "code",
   "execution_count": 12,
   "metadata": {},
   "outputs": [
    {
     "data": {
      "image/png": "[encoded data removed]",
      "text/plain": [
       "<Figure size 432x288 with 1 Axes>"
      ]
     },
     "metadata": {
      "needs_background": "light"
     },
     "output_type": "display_data"
    }
   ],
   "source": [
    "plt.imshow(image, cmap = 'gray' )\n",
    "plt.show()"
   ]
  },
  {
   "cell_type": "code",
   "execution_count": 14,
   "metadata": {},
   "outputs": [
    {
     "data": {
      "image/png": "[encoded data removed]",
      "text/plain": [
       "<Figure size 432x288 with 1 Axes>"
      ]
     },
     "metadata": {
      "needs_background": "light"
     },
     "output_type": "display_data"
    }
   ],
   "source": [
    "plt.imshow(norm_image, cmap = 'gray')\n",
    "plt.plot(List_min_row, 'r')\n",
    "plt.savefig('superimpose.png')\n",
    "plt.show()"
   ]
  },
  {
   "cell_type": "code",
   "execution_count": 21,
   "metadata": {},
   "outputs": [
    {
     "name": "stdout",
     "output_type": "stream",
     "text": [
      "\n",
      " Minimum value of f(c) for alpha = 2 is 322.0\n",
      "\n",
      " Printing the backtrace for alpha = 2:  [7.0, 7.0, 7.0, 7.0, 7.0, 7.0, 7.0, 6.0, 6.0, 6.0, 6.0, 6.0, 6.0, 6.0, 6.0, 6.0, 6.0, 5.0, 6.0, 5.0, 5.0, 6.0, 6.0, 6.0, 6.0, 5.0, 5.0, 5.0, 5.0, 5.0, 6.0, 6.0, 5.0, 5.0, 5.0, 5.0, 6.0, 6.0, 5.0, 5.0, 5.0, 6.0, 6.0, 6.0, 5.0, 5.0, 5.0, 6.0, 6.0, 6.0, 5.0, 5.0, 6.0, 6.0, 6.0, 6.0, 6.0, 6.0, 6.0, 7.0, 6.0, 6.0, 6.0, 7.0, 7.0, 6.0, 6.0, 7.0, 7.0, 6.0, 6.0, 6.0, 7.0, 6.0, 6.0, 7.0, 7.0, 7.0, 6.0, 7.0, 7.0, 7.0, 6.0, 7.0, 7.0, 7.0, 6.0, 6.0, 7.0, 7.0, 6.0, 6.0, 6.0, 7.0, 6.0, 6.0, 7.0, 6.0, 7.0, 7.0, 6.0, 7.0, 6.0, 6.0, 6.0, 7.0, 6.0, 6.0, 6.0, 6.0, 6.0, 7.0, 6.0, 6.0, 6.0, 6.0, 6.0, 7.0, 6.0, 6.0, 5.0, 5.0, 6.0, 7.0, 6.0, 6.0, 6.0, 6.0, 6.0, 6.0, 6.0, 6.0, 7.0, 6.0, 6.0, 7.0, 6.0, 6.0, 6.0, 6.0, 6.0, 6.0, 6.0, 7.0, 6.0, 6.0, 6.0, 7.0, 6.0, 7.0, 6.0, 6.0, 6.0, 5.0, 6.0, 6.0, 6.0, 6.0, 6.0, 6.0, 6.0, 6.0, 5.0, 6.0, 6.0, 6.0, 5.0, 5.0, 6.0, 5.0, 5.0, 5.0, 6.0, 5.0, 5.0, 6.0, 6.0, 6.0, 5.0, 5.0, 6.0, 5.0, 5.0, 5.0, 5.0, 5.0, 5.0, 5.0, 5.0, 5.0, 5.0, 5.0, 5.0, 6.0, 6.0, 6.0, 6.0, 6.0, 6.0, 6.0, 6.0, 6.0, 6.0, 6.0, 6.0, 6.0, 6.0, 6.0, 7.0, 7.0, 7.0, 6.0, 7.0, 7.0, 7.0, 7.0, 7.0, 7.0, 7.0, 7.0, 7.0, 7.0, 8.0, 7.0, 8.0, 7.0, 8.0, 8.0, 8.0, 7.0, 7.0, 8.0, 7.0, 8.0, 8.0, 8.0, 8.0, 8.0, 8.0, 8.0, 8.0, 8.0, 8.0, 7.0, 7.0, 7.0, 7.0, 7.0, 7.0, 7.0, 7.0, 7.0, 8.0, 7.0, 8.0, 7.0, 7.0, 7.0, 7.0, 7.0, 7.0, 7.0, 7.0, 7.0, 7.0, 7.0, 7.0, 7.0, 7.0, 7.0, 7.0, 7.0, 7.0, 7.0, 7.0, 7.0, 7.0, 7.0, 7.0, 7.0, 7.0, 7.0, 7.0, 7.0, 7.0, 7.0, 7.0, 7.0, 7.0, 7.0, 6.0, 6.0, 7.0, 8.0, 7.0, 7.0, 7.0, 7.0, 7.0, 7.0, 7.0, 7.0, 7.0, 7.0, 8.0, 7.0, 8.0, 7.0, 7.0, 7.0, 8.0, 7.0, 8.0, 7.0, 8.0, 7.0, 7.0, 7.0, 8.0, 8.0, 7.0, 8.0, 7.0, 7.0, 8.0, 8.0, 7.0, 8.0, 8.0, 7.0, 8.0, 8.0, 8.0, 8.0, 8.0, 8.0, 8.0, 8.0, 7.0, 8.0, 8.0, 8.0, 8.0, 8.0, 8.0, 8.0, 7.0, 7.0, 8.0, 8.0, 8.0, 8.0, 8.0, 8.0, 8.0, 8.0, 9.0, 8.0, 8.0, 8.0, 8.0, 7.0, 8.0, 8.0, 8.0, 8.0, 9.0, 9.0, 8.0, 8.0, 8.0, 8.0, 8.0, 8.0, 8.0, 8.0, 8.0, 8.0, 8.0, 8.0, 8.0, 9.0, 9.0, 9.0, 9.0, 9.0, 9.0, 9.0, 9.0, 8.0, 8.0, 8.0, 9.0, 9.0, 9.0, 9.0, 8.0, 8.0, 8.0, 8.0, 9.0, 9.0, 9.0, 9.0, 8.0, 9.0, 9.0, 9.0, 9.0, 9.0, 8.0, 8.0, 8.0, 9.0, 9.0, 9.0, 9.0, 9.0, 9]\n"
     ]
    }
   ],
   "source": [
    "#Question 1 part (b)\n",
    "def recSmooth(image, t, alpha, ptr, vt_list):\n",
    "    if t == 0:\n",
    "        vt_list[:,t] = image[:,0]\n",
    "        return ptr, vt_list\n",
    "    else:\n",
    "        recSmooth(image, t-1, alpha, ptr, vt_list)\n",
    "        for current_column_row in range(image.shape[0]):\n",
    "            min_penalty = None\n",
    "            penalty_list = []\n",
    "            for prev_column_row in range(image.shape[0]):\n",
    "                penalty = alpha * ((current_column_row - prev_column_row)**2) + vt_list[prev_column_row, t-1]\n",
    "                penalty_list.append(penalty)\n",
    "                if min_penalty == None or penalty < min_penalty:\n",
    "                    min_penalty = penalty\n",
    "                    ptr[current_column_row, t] = prev_column_row\n",
    "            vt_list[current_column_row, t] = image[current_column_row,t] + min_penalty\n",
    "        return ptr, vt_list\n",
    "    \n",
    "ptr = np.zeros(norm_image.shape)\n",
    "vt_list = np.zeros(norm_image.shape)\n",
    "\n",
    "ptr, vt_list = recSmooth(norm_image, norm_image.shape[1]-1, 2, ptr, vt_list)\n",
    "\n",
    "#Question 1 part (c)\n",
    "print(\"\\n Minimum value of f(c) for alpha = 2 is\",np.min(vt_list[:,image.shape[1]-1]))\n",
    "ptr_list = []\n",
    "ptr_list.append(np.argmin(vt_list[:,image.shape[1]-1]))\n",
    "for column in reversed(range(1,image.shape[1])):\n",
    "    ptr_list.append(ptr[int(ptr_list[len(ptr_list)-1]),column])\n",
    "ptr_list = list(reversed(ptr_list))\n",
    "print(\"\\n Printing the backtrace for alpha = 2: \", ptr_list)"
   ]
  },
  {
   "cell_type": "code",
   "execution_count": 23,
   "metadata": {},
   "outputs": [
    {
     "name": "stdout",
     "output_type": "stream",
     "text": [
      "\n",
      " Minimum value of f(c) for alpha = 15 is 1232.0\n",
      "\n",
      " Printing the backtrace for alpha = 15:  [7.0, 7.0, 7.0, 7.0, 7.0, 7.0, 7.0, 6.0, 6.0, 6.0, 6.0, 6.0, 6.0, 6.0, 6.0, 6.0, 6.0, 6.0, 6.0, 6.0, 6.0, 6.0, 6.0, 6.0, 6.0, 5.0, 5.0, 5.0, 5.0, 5.0, 5.0, 5.0, 5.0, 5.0, 5.0, 5.0, 6.0, 6.0, 5.0, 5.0, 5.0, 6.0, 6.0, 6.0, 5.0, 5.0, 5.0, 6.0, 6.0, 6.0, 6.0, 6.0, 6.0, 6.0, 6.0, 6.0, 6.0, 6.0, 6.0, 6.0, 6.0, 6.0, 6.0, 7.0, 7.0, 6.0, 6.0, 7.0, 7.0, 6.0, 6.0, 6.0, 6.0, 6.0, 6.0, 7.0, 7.0, 7.0, 7.0, 7.0, 7.0, 7.0, 7.0, 7.0, 7.0, 7.0, 6.0, 6.0, 7.0, 7.0, 6.0, 6.0, 6.0, 6.0, 6.0, 6.0, 7.0, 7.0, 7.0, 7.0, 6.0, 6.0, 6.0, 6.0, 6.0, 6.0, 6.0, 6.0, 6.0, 6.0, 6.0, 6.0, 6.0, 6.0, 6.0, 6.0, 6.0, 6.0, 6.0, 6.0, 5.0, 5.0, 6.0, 6.0, 6.0, 6.0, 6.0, 6.0, 6.0, 6.0, 6.0, 6.0, 6.0, 6.0, 6.0, 6.0, 6.0, 6.0, 6.0, 6.0, 6.0, 6.0, 6.0, 6.0, 6.0, 6.0, 6.0, 6.0, 6.0, 6.0, 6.0, 6.0, 6.0, 6.0, 6.0, 6.0, 6.0, 6.0, 6.0, 6.0, 6.0, 6.0, 6.0, 6.0, 6.0, 6.0, 5.0, 5.0, 5.0, 5.0, 5.0, 5.0, 5.0, 5.0, 5.0, 6.0, 6.0, 6.0, 6.0, 6.0, 6.0, 5.0, 5.0, 5.0, 5.0, 5.0, 5.0, 5.0, 5.0, 5.0, 5.0, 5.0, 5.0, 6.0, 6.0, 6.0, 6.0, 6.0, 6.0, 6.0, 6.0, 6.0, 6.0, 6.0, 6.0, 6.0, 6.0, 6.0, 7.0, 7.0, 7.0, 7.0, 7.0, 7.0, 7.0, 7.0, 7.0, 7.0, 7.0, 7.0, 7.0, 7.0, 8.0, 8.0, 8.0, 8.0, 8.0, 8.0, 8.0, 8.0, 8.0, 8.0, 8.0, 8.0, 8.0, 8.0, 8.0, 8.0, 8.0, 8.0, 8.0, 8.0, 8.0, 7.0, 7.0, 7.0, 7.0, 7.0, 7.0, 7.0, 7.0, 7.0, 7.0, 7.0, 7.0, 7.0, 7.0, 7.0, 7.0, 7.0, 7.0, 7.0, 7.0, 7.0, 7.0, 7.0, 7.0, 7.0, 7.0, 7.0, 7.0, 7.0, 7.0, 7.0, 7.0, 7.0, 7.0, 7.0, 7.0, 7.0, 7.0, 7.0, 7.0, 7.0, 7.0, 7.0, 7.0, 7.0, 7.0, 7.0, 7.0, 7.0, 7.0, 7.0, 7.0, 7.0, 7.0, 7.0, 7.0, 7.0, 7.0, 7.0, 7.0, 7.0, 7.0, 7.0, 7.0, 7.0, 7.0, 7.0, 7.0, 7.0, 7.0, 7.0, 7.0, 7.0, 7.0, 7.0, 7.0, 7.0, 7.0, 7.0, 7.0, 7.0, 8.0, 8.0, 8.0, 8.0, 8.0, 8.0, 8.0, 8.0, 8.0, 8.0, 8.0, 8.0, 8.0, 8.0, 8.0, 8.0, 8.0, 8.0, 8.0, 8.0, 8.0, 8.0, 8.0, 8.0, 8.0, 8.0, 8.0, 8.0, 8.0, 8.0, 8.0, 8.0, 8.0, 8.0, 8.0, 8.0, 8.0, 8.0, 8.0, 8.0, 8.0, 8.0, 8.0, 8.0, 8.0, 8.0, 8.0, 8.0, 8.0, 8.0, 8.0, 8.0, 8.0, 8.0, 8.0, 8.0, 8.0, 9.0, 9.0, 9.0, 9.0, 9.0, 9.0, 9.0, 9.0, 8.0, 8.0, 8.0, 8.0, 8.0, 8.0, 8.0, 8.0, 8.0, 8.0, 8.0, 9.0, 9.0, 9.0, 9.0, 9.0, 9.0, 9.0, 9.0, 9.0, 9.0, 9.0, 9.0, 9.0, 9.0, 9.0, 9.0, 9.0, 9.0, 9]\n"
     ]
    }
   ],
   "source": [
    "#Question 1 part (d)\n",
    "ptr2 = np.zeros(norm_image.shape)\n",
    "vt_list2 = np.zeros(norm_image.shape)\n",
    "ptr2, vt_list2 = recSmooth(norm_image, norm_image.shape[1]-1, 15, ptr2, vt_list2)\n",
    "print(\"\\n Minimum value of f(c) for alpha = 15 is\", np.min(vt_list2[:,image.shape[1]-1]))\n",
    "ptr_list2 = []\n",
    "ptr_list2.append(np.argmin(vt_list2[:,image.shape[1]-1]))\n",
    "for column in reversed(range(1,image.shape[1])):\n",
    "    ptr_list2.append(ptr2[int(ptr_list2[len(ptr_list2)-1]),column])\n",
    "ptr_list2 = list(reversed(ptr_list2))\n",
    "print(\"\\n Printing the backtrace for alpha = 15: \", ptr_list2)"
   ]
  },
  {
   "cell_type": "code",
   "execution_count": 25,
   "metadata": {},
   "outputs": [
    {
     "data": {
      "image/png": "[encoded data removed]",
      "text/plain": [
       "<Figure size 432x288 with 1 Axes>"
      ]
     },
     "metadata": {
      "needs_background": "light"
     },
     "output_type": "display_data"
    }
   ],
   "source": [
    "#Normalized image with the plot of the c overimposed in color for alpha = 2\n",
    "plt.imshow(norm_image, cmap = 'gray')\n",
    "plt.plot(ptr_list, 'r')\n",
    "plt.savefig('superimpose_alpha_2.png')\n",
    "plt.show()"
   ]
  },
  {
   "cell_type": "code",
   "execution_count": 26,
   "metadata": {},
   "outputs": [
    {
     "data": {
      "image/png": "[encoded data removed]",
      "text/plain": [
       "<Figure size 432x288 with 1 Axes>"
      ]
     },
     "metadata": {
      "needs_background": "light"
     },
     "output_type": "display_data"
    }
   ],
   "source": [
    "#Normalized image with the plot of the c overimposed in color for alpha = 15\n",
    "plt.imshow(norm_image, cmap = 'gray')\n",
    "plt.plot(ptr_list2, 'r')\n",
    "plt.savefig('superimpose_alpha_15.png')\n",
    "plt.show()"
   ]
  },
  {
   "cell_type": "code",
   "execution_count": 28,
   "metadata": {},
   "outputs": [
    {
     "data": {
      "text/plain": [
       "396"
      ]
     },
     "execution_count": 28,
     "metadata": {},
     "output_type": "execute_result"
    }
   ],
   "source": [
    "match = [List_min_row[i] == ptr_list[i] for i in range(len(List_min_row))]\n",
    "sum(match)"
   ]
  },
  {
   "cell_type": "code",
   "execution_count": 29,
   "metadata": {},
   "outputs": [
    {
     "data": {
      "text/plain": [
       "335"
      ]
     },
     "execution_count": 29,
     "metadata": {},
     "output_type": "execute_result"
    }
   ],
   "source": [
    "match = [List_min_row[i] == ptr_list2[i] for i in range(len(List_min_row))]\n",
    "sum(match)"
   ]
  },
  {
   "cell_type": "code",
   "execution_count": 38,
   "metadata": {},
   "outputs": [
    {
     "data": {
      "text/plain": [
       "'For alpha = 15, there will be more smoothing as penalty is larger. therefore the smooth curve will overlap less to  guidewire. Since,it overlaps at only 335 points compared to 396 for alpha = 2 as there is less smoothing for alpha =2.'"
      ]
     },
     "execution_count": 38,
     "metadata": {},
     "output_type": "execute_result"
    }
   ],
   "source": [
    "\"For alpha = 15, there will be more smoothing as penalty is larger. therefore the smooth curve will overlap less to  guidewire. Since,it overlaps at only 335 points compared to 396 for alpha = 2 as there is less smoothing for alpha =2.\""
   ]
  }
 ],
 "metadata": {
  "kernelspec": {
   "display_name": "Python 3",
   "language": "python",
   "name": "python3"
  },
  "language_info": {
   "codemirror_mode": {
    "name": "ipython",
    "version": 3
   },
   "file_extension": ".py",
   "mimetype": "text/x-python",
   "name": "python",
   "nbconvert_exporter": "python",
   "pygments_lexer": "ipython3",
   "version": "3.7.1"
  }
 },
 "nbformat": 4,
 "nbformat_minor": 2
}
